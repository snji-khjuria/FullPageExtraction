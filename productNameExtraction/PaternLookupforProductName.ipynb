{
 "cells": [
  {
   "cell_type": "code",
   "execution_count": 27,
   "metadata": {},
   "outputs": [
    {
     "name": "stdout",
     "output_type": "stream",
     "text": [
      "Enter the products pattern location: \n",
      "Enter page Location on which to apply prodcut patterns: \n"
     ]
    }
   ],
   "source": [
    "import re\n",
    "print(\"Enter the products pattern location: \")\n",
    "# productPatternsLocation = raw_input()\n",
    "productPatternsLocation = \"productNameData/ProductPatterns.tsv\"\n",
    "print(\"Enter page Location on which to apply prodcut patterns: \")\n",
    "# inputPageLocation = raw_input()\n",
    "inputPageLocation = \"unseen/page.html\""
   ]
  },
  {
   "cell_type": "code",
   "execution_count": 18,
   "metadata": {
    "collapsed": true
   },
   "outputs": [],
   "source": [
    "\n",
    "def doProcessingWithoutClass(s):\n",
    "    i = \"class[\\s]*=[\\s]*\"\n",
    "    o       = \"class=\"\n",
    "    s = re.sub(i, o, s)\n",
    "    i = \"([^class])=\\\"[^\\\"]*\\\"\"\n",
    "    o = \"\\\\1=\\\"\\\"\"\n",
    "    return re.sub(i, o, s)\n",
    "\n",
    "#read the page from pageLocation\n",
    "def readPage(pageLocation):\n",
    "    htmlPageContent = \"\"\n",
    "    with open(pageLocation, 'r') as myfile:\n",
    "        htmlPageContent = myfile.read().strip()\n",
    "    return htmlPageContent\n",
    "\n",
    "\n",
    "\n",
    "#document processing logic at this stage is about removing multiple whitespaces into single one \n",
    "def preprocessDocument(document):\n",
    "    return ' '.join(document.split())\n",
    "\n",
    "\n",
    "\n",
    "#Pattern is (l, r) and match them to htmlPageContent\n",
    "def findEntitySetwrtPattern(htmlPageContent, (l, r)):\n",
    "    #for each start location of pattern find its end\n",
    "    #for each end page find the pattern right\n",
    "    #extract everything till that point\n",
    "    #after extraction move one point above that pattern string\n",
    "    results = []\n",
    "    for m in re.finditer(re.escape(l), htmlPageContent):\n",
    "        start = m.start()\n",
    "        end = m.end()\n",
    "        rightPage = htmlPageContent[end:]\n",
    "        rightLoc  = rightPage.find(r)\n",
    "        if rightLoc==-1:\n",
    "            break\n",
    "        element = rightPage[:rightLoc]\n",
    "        if len(element)>1 and len(element)<300:\n",
    "            results.append(element)\n",
    "    return set(results)\n",
    "\n",
    "\n",
    "def extractSet(patterns, htmlPageContent):\n",
    "    output = []\n",
    "    for pattern in patterns:\n",
    "        output.extend(findEntitySetwrtPattern(htmlPageContent, pattern))\n",
    "    return set(output)"
   ]
  },
  {
   "cell_type": "code",
   "execution_count": 29,
   "metadata": {},
   "outputs": [],
   "source": [
    "def loadIntoPatternsStore(patternsStore, line):\n",
    "    components = line.split(\"\\t\")\n",
    "    groupId = components[0]\n",
    "    websiteName = components[1]\n",
    "    patternType = components[2]\n",
    "    missed = int(components[3])\n",
    "    junk = int(components[4])\n",
    "    total = int(components[5])\n",
    "    leftPattern = components[6]\n",
    "    rightPattern = components[7]\n",
    "\n",
    "    if groupId in patternsStore:\n",
    "        (websiteName, patternType, missed, junk, total, patterns) = patternsStore[groupId]\n",
    "        patterns.append((leftPattern, rightPattern))\n",
    "    else:\n",
    "        patternsStore[groupId] = (websiteName, patternType, missed, junk, total, [(leftPattern, rightPattern)])\n",
    "def readProductPatternStore(fileLocation):\n",
    "    patternsStore = {}\n",
    "    index=0\n",
    "    with open(fileLocation) as f:\n",
    "        for line in f: \n",
    "            if index==0:\n",
    "                index=1\n",
    "                continue\n",
    "            line = line.strip() #or some other preprocessing\n",
    "            loadIntoPatternsStore(patternsStore, line)\n",
    "#             print(\"line is \" + line)\n",
    "    output = []\n",
    "    for (k, v) in patternsStore.items():\n",
    "        output.append(v)\n",
    "    return output\n",
    "patternsStore = readProductPatternStore(productPatternsLocation)\n",
    "\n",
    "\n",
    "#remove elements which were actually tag\n",
    "def isTag(s):\n",
    "    if s.find(\"<\")!=-1 and s.find(\">\")!=-1:\n",
    "        return True\n",
    "    return False\n",
    "\n",
    "\n",
    "#preprocess results before writing it to file\n",
    "def preprocessResults(output):\n",
    "    result = []\n",
    "    for o in output:\n",
    "        if isTag(o):\n",
    "            continue\n",
    "        result.append(o)\n",
    "    return result\n"
   ]
  },
  {
   "cell_type": "code",
   "execution_count": 37,
   "metadata": {},
   "outputs": [
    {
     "name": "stdout",
     "output_type": "stream",
     "text": [
      "[('flipkart', ['Grand Theft Auto IV (for PS3)'], 0, 0, 4)]\n"
     ]
    }
   ],
   "source": [
    "def applyPatternsToPageLocation(patternsFileLocation, inputPageLocation):\n",
    "    patternsStore      = readProductPatternStore(patternsFileLocation)\n",
    "    plainPageContent   = preprocessDocument(readPage(inputPageLocation))\n",
    "    noValuePageContent = doProcessingWithoutClass(preprocessDocument(readPage(inputPageLocation)))\n",
    "    results = []\n",
    "    for pattern in patternsStore:\n",
    "        (websiteName, patternType, missed, junk, total, lrPatterns) = pattern\n",
    "        if patternType==\"plainPattern\":\n",
    "            pageContent = plainPageContent\n",
    "        else:\n",
    "            pageContent = noValuePageContent\n",
    "        resultsPerPattern = preprocessResults(list(extractSet(lrPatterns, pageContent)))\n",
    "        if (len(resultsPerPattern)>0):\n",
    "            results.append((websiteName, resultsPerPattern, missed, junk, total))\n",
    "#         print(resultsPerPattern)\n",
    "    return results\n",
    "        \n",
    "print applyPatternsToPageLocation(productPatternsLocation, inputPageLocation)\n",
    "\n"
   ]
  }
 ],
 "metadata": {
  "kernelspec": {
   "display_name": "Python 2",
   "language": "python",
   "name": "python2"
  },
  "language_info": {
   "codemirror_mode": {
    "name": "ipython",
    "version": 2
   },
   "file_extension": ".py",
   "mimetype": "text/x-python",
   "name": "python",
   "nbconvert_exporter": "python",
   "pygments_lexer": "ipython2",
   "version": "2.7.12"
  }
 },
 "nbformat": 4,
 "nbformat_minor": 2
}
