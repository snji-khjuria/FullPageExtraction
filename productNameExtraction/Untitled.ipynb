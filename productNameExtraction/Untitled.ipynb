{
 "cells": [
  {
   "cell_type": "code",
   "execution_count": 142,
   "metadata": {},
   "outputs": [
    {
     "name": "stdout",
     "output_type": "stream",
     "text": [
      "\" \"\n",
      "   \n",
      "\\bpasha\\b | \\bsanjeev\\b\n",
      "my name is sanjeev =\"kumar\" verma and name =\"kumar\" and name =kumar and pasha =\"value\" and yours\n",
      "(\\bpasha\\b | \\bsanjeev\\b)[\\s]*=[\\s]*\"[^\"]*\"\n",
      "my name is sanjeev =\"kumar\" verma and name =\"kumar\" and name =kumar and pasha =\"value\" and yours\n",
      "my name is sanjeev =\"kumar\" verma and name =\"kumar\" and name =kumar and pasha =\"value\" and yours\n"
     ]
    }
   ],
   "source": [
    "\n",
    "    \n",
    "#find seeds for one particular seed(at this stage call only getAllStartEndPairs())\n",
    "def getEachSeedLocationsInPage(htmlPageContent, seed):\n",
    "    return getAllStartEndPairs(htmlPageContent, seed)\n",
    "\n",
    "def isInsideQuotes(document, seedsSet):\n",
    "    totalLength = len(document)\n",
    "    for s in seedsSet:\n",
    "        allSeedPositions = getAllStartEndPairs(document, s)\n",
    "        for (start, end) in allSeedPositions:\n",
    "            prevLoc = start-1\n",
    "            nextLoc = end\n",
    "            if prevLoc>=0 and nextLoc<totalLength:\n",
    "                prevQuot = document[prevLoc]\n",
    "                nextQuot  = document[nextLoc]\n",
    "                print(prevQuot + \" \" + nextQuot)\n",
    "                if prevQuot==\"\\\"\" and nextQuot==\"\\\"\":\n",
    "                    return True\n",
    "    return False\n",
    "            \n",
    "s = [\"sanjeev\", \"kumar\"]\n",
    "data = \"my name is value = \\\"sanjeev\\\" kumar and yours is\"\n",
    "# isInsideQuotes(data, s)\n",
    "\n",
    "\n",
    "\n",
    "words = getSpecialWords(data, s)\n",
    "\n",
    "\n",
    "\n",
    "import re\n",
    "def doProcessingWithoutClass(s, words):\n",
    "    i = \"class[\\s]*=[\\s]*\"\n",
    "    o       = \"class=\"\n",
    "    s = re.sub(i, o, s)\n",
    "    i = \"([^class])=\\\"[^\\\"]*\\\"\"\n",
    "    o = \"\\\\1=\\\"\\\"\"\n",
    "    return re.sub(i, o, s)\n",
    "\n",
    "\n",
    "test = \"my name is sanjeev =\\\"kumar\\\" verma and name =\\\"kumar\\\" and name =kumar and pasha =\\\"value\\\" and yours\"\n",
    "\n",
    "def getOneWhitespace(wordsStr):\n",
    "    return (\"(\" + wordsStr + \")[\\s]*=\", \"\\\\1 =\")\n",
    "\n",
    "\n",
    "def getQuoteRemoval(wordsStr):\n",
    "    suffix = \"[\\s]*=[\\s]*\\\"[^\\\"]*\\\"\"\n",
    "    return (\"(\"+wordsStr+\")\"+suffix, \"=\\\"\\\"\")\n",
    "\n",
    "\n",
    "wordsStr = getWordsAsString([\"pasha\", \"sanjeev\"])\n",
    "# print(wordsStr)\n",
    "(whitein, whiteout) = getOneWhitespace(wordsStr)\n",
    "# test = re.sub(whitein, whiteout, test)\n",
    "# print(whitein)\n",
    "# print(whiteout)\n",
    "print(test)\n",
    "(quoteIn, quoteOut) = getQuoteRemoval(wordsStr)\n",
    "print(quoteIn)\n",
    "print(test)\n",
    "# test=re.sub(quoteIn, quoteOut, test)\n",
    "print(test)\n",
    "\n",
    "# print(re.findall(, test))"
   ]
  },
  {
   "cell_type": "code",
   "execution_count": 256,
   "metadata": {
    "collapsed": true
   },
   "outputs": [],
   "source": []
  },
  {
   "cell_type": "code",
   "execution_count": null,
   "metadata": {
    "collapsed": true
   },
   "outputs": [],
   "source": []
  },
  {
   "cell_type": "code",
   "execution_count": 187,
   "metadata": {},
   "outputs": [
    {
     "name": "stdout",
     "output_type": "stream",
     "text": [
      "\\bpasha\\b | \\bsanjeev\\b\n",
      "my name is sanjeev=\"pash\" kuamr and your name= \"what\" \n"
     ]
    },
    {
     "ename": "error",
     "evalue": "nothing to repeat",
     "output_type": "error",
     "traceback": [
      "\u001b[0;31m---------------------------------------------------------------------------\u001b[0m",
      "\u001b[0;31merror\u001b[0m                                     Traceback (most recent call last)",
      "\u001b[0;32m<ipython-input-187-5e72c491ecd4>\u001b[0m in \u001b[0;36m<module>\u001b[0;34m()\u001b[0m\n\u001b[1;32m      2\u001b[0m \u001b[0;32mprint\u001b[0m\u001b[0;34m(\u001b[0m\u001b[0mtest\u001b[0m\u001b[0;34m)\u001b[0m\u001b[0;34m\u001b[0m\u001b[0m\n\u001b[1;32m      3\u001b[0m \u001b[0mregex\u001b[0m \u001b[0;34m=\u001b[0m \u001b[0;34m\"?!sanjeev\"\u001b[0m\u001b[0;34m\u001b[0m\u001b[0m\n\u001b[0;32m----> 4\u001b[0;31m \u001b[0;32mprint\u001b[0m\u001b[0;34m(\u001b[0m\u001b[0mre\u001b[0m\u001b[0;34m.\u001b[0m\u001b[0mfindall\u001b[0m\u001b[0;34m(\u001b[0m\u001b[0mregex\u001b[0m\u001b[0;34m,\u001b[0m \u001b[0mtest\u001b[0m\u001b[0;34m)\u001b[0m\u001b[0;34m)\u001b[0m\u001b[0;34m\u001b[0m\u001b[0m\n\u001b[0m",
      "\u001b[0;32m/usr/lib/python2.7/re.pyc\u001b[0m in \u001b[0;36mfindall\u001b[0;34m(pattern, string, flags)\u001b[0m\n\u001b[1;32m    179\u001b[0m \u001b[0;34m\u001b[0m\u001b[0m\n\u001b[1;32m    180\u001b[0m     Empty matches are included in the result.\"\"\"\n\u001b[0;32m--> 181\u001b[0;31m     \u001b[0;32mreturn\u001b[0m \u001b[0m_compile\u001b[0m\u001b[0;34m(\u001b[0m\u001b[0mpattern\u001b[0m\u001b[0;34m,\u001b[0m \u001b[0mflags\u001b[0m\u001b[0;34m)\u001b[0m\u001b[0;34m.\u001b[0m\u001b[0mfindall\u001b[0m\u001b[0;34m(\u001b[0m\u001b[0mstring\u001b[0m\u001b[0;34m)\u001b[0m\u001b[0;34m\u001b[0m\u001b[0m\n\u001b[0m\u001b[1;32m    182\u001b[0m \u001b[0;34m\u001b[0m\u001b[0m\n\u001b[1;32m    183\u001b[0m \u001b[0;32mif\u001b[0m \u001b[0msys\u001b[0m\u001b[0;34m.\u001b[0m\u001b[0mhexversion\u001b[0m \u001b[0;34m>=\u001b[0m \u001b[0;36m0x02020000\u001b[0m\u001b[0;34m:\u001b[0m\u001b[0;34m\u001b[0m\u001b[0m\n",
      "\u001b[0;32m/usr/lib/python2.7/re.pyc\u001b[0m in \u001b[0;36m_compile\u001b[0;34m(*key)\u001b[0m\n\u001b[1;32m    249\u001b[0m         \u001b[0mp\u001b[0m \u001b[0;34m=\u001b[0m \u001b[0msre_compile\u001b[0m\u001b[0;34m.\u001b[0m\u001b[0mcompile\u001b[0m\u001b[0;34m(\u001b[0m\u001b[0mpattern\u001b[0m\u001b[0;34m,\u001b[0m \u001b[0mflags\u001b[0m\u001b[0;34m)\u001b[0m\u001b[0;34m\u001b[0m\u001b[0m\n\u001b[1;32m    250\u001b[0m     \u001b[0;32mexcept\u001b[0m \u001b[0merror\u001b[0m\u001b[0;34m,\u001b[0m \u001b[0mv\u001b[0m\u001b[0;34m:\u001b[0m\u001b[0;34m\u001b[0m\u001b[0m\n\u001b[0;32m--> 251\u001b[0;31m         \u001b[0;32mraise\u001b[0m \u001b[0merror\u001b[0m\u001b[0;34m,\u001b[0m \u001b[0mv\u001b[0m \u001b[0;31m# invalid expression\u001b[0m\u001b[0;34m\u001b[0m\u001b[0m\n\u001b[0m\u001b[1;32m    252\u001b[0m     \u001b[0;32mif\u001b[0m \u001b[0;32mnot\u001b[0m \u001b[0mbypass_cache\u001b[0m\u001b[0;34m:\u001b[0m\u001b[0;34m\u001b[0m\u001b[0m\n\u001b[1;32m    253\u001b[0m         \u001b[0;32mif\u001b[0m \u001b[0mlen\u001b[0m\u001b[0;34m(\u001b[0m\u001b[0m_cache\u001b[0m\u001b[0;34m)\u001b[0m \u001b[0;34m>=\u001b[0m \u001b[0m_MAXCACHE\u001b[0m\u001b[0;34m:\u001b[0m\u001b[0;34m\u001b[0m\u001b[0m\n",
      "\u001b[0;31merror\u001b[0m: nothing to repeat"
     ]
    }
   ],
   "source": [
    "print(wordsStr)\n",
    "print(test)\n",
    "regex = \"?!sanjeev\"\n",
    "print(re.findall(regex, test))"
   ]
  },
  {
   "cell_type": "code",
   "execution_count": 239,
   "metadata": {},
   "outputs": [
    {
     "name": "stdout",
     "output_type": "stream",
     "text": [
      "['Not Ok']\n",
      "my name is java = \"java\" java and and pasha = \"value\" what is and your is \n"
     ]
    }
   ],
   "source": [
    "strs = 'Test result 1: Not Ok -31.08'\n",
    "print(re.findall(r'\\bNot Ok\\b',strs))\n",
    "\n",
    "\n",
    "test = \"my name is sanjeev = \\\"kumar\\\" kumar and and pasha = \\\"value\\\" what is and your is \"\n",
    "regex = r'(sanjeev|kumar)[\\s]*=[\\s]*\"[^\"]*\"'\n",
    "# print(re.findall(regex, test))\n",
    "regex = r'(sanjeev|kumar)'\n",
    "test=re.sub(regex, r'java', test)\n",
    "print(test)"
   ]
  },
  {
   "cell_type": "code",
   "execution_count": 254,
   "metadata": {},
   "outputs": [
    {
     "name": "stdout",
     "output_type": "stream",
     "text": [
      "['sanjeev']\n"
     ]
    }
   ],
   "source": [
    "print(re.findall(r'(\\bsanjeev\\b)', 'sanjev kumar i sanjeev= kumar'))\n",
    "# print(re.findall(r'\\babc\\b', 'abc 123'))"
   ]
  },
  {
   "cell_type": "code",
   "execution_count": 258,
   "metadata": {},
   "outputs": [
    {
     "data": {
      "text/plain": [
       "['name', 'sanjeev', 'name']"
      ]
     },
     "execution_count": 258,
     "metadata": {},
     "output_type": "execute_result"
    }
   ],
   "source": [
    "\n",
    "\n",
    "\n",
    "\n",
    "test = \"my name is sanjeev=\\\"pash\\\" kuamr and your name= \\\"what\\\" \"\n",
    "regex = \"(sanjeev|name)\"\n",
    "re.findall(regex, test)\n",
    "# regex = \"^(?!\\\\bfoo\\\\b|\\\\bbar\\\\b).*\"\n",
    "# regex = \"(\\\\b(?!sanjeev)\\\\b)=\\\"[^\\\"]*\\\"\"\n",
    "# regex = \"(?!sanjeev/W)\"\n",
    "# print(re.sub(regex, \"java\", test))\n",
    "# print(re.findall(regex, test))"
   ]
  },
  {
   "cell_type": "code",
   "execution_count": 115,
   "metadata": {},
   "outputs": [
    {
     "data": {
      "text/plain": [
       "['and', 'and', 'not', 'or']"
      ]
     },
     "execution_count": 115,
     "metadata": {},
     "output_type": "execute_result"
    }
   ],
   "source": [
    "re.findall(r\"\\band\\b|\\bor\\b|\\bnot\\b\", \"These are oranges and apples and pears, but not pinapples or ..\")\n",
    "# ['and', 'and', 'not', 'or']"
   ]
  },
  {
   "cell_type": "code",
   "execution_count": null,
   "metadata": {
    "collapsed": true
   },
   "outputs": [],
   "source": [
    "\n",
    "createWordsRegExp(words):"
   ]
  }
 ],
 "metadata": {
  "kernelspec": {
   "display_name": "Python 2",
   "language": "python",
   "name": "python2"
  },
  "language_info": {
   "codemirror_mode": {
    "name": "ipython",
    "version": 2
   },
   "file_extension": ".py",
   "mimetype": "text/x-python",
   "name": "python",
   "nbconvert_exporter": "python",
   "pygments_lexer": "ipython2",
   "version": "2.7.12"
  }
 },
 "nbformat": 4,
 "nbformat_minor": 2
}
