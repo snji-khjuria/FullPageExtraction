{
 "cells": [
  {
   "cell_type": "code",
   "execution_count": 15,
   "metadata": {},
   "outputs": [
    {
     "name": "stdout",
     "output_type": "stream",
     "text": [
      "sanjeev|is\n",
      "(sanjeev|is)[\\s]*=[\\s]*\"([^\"]*)\"\n"
     ]
    },
    {
     "data": {
      "text/plain": [
       "'hi my name is sanjeev=value0 and youar name is=value1 kumar what\\'s up and value=\"value3\" ok'"
      ]
     },
     "execution_count": 15,
     "metadata": {},
     "output_type": "execute_result"
    }
   ],
   "source": [
    "import re\n",
    "#find all start, end pairs of particular key\n",
    "def getAllStartEndPairs(document, key):\n",
    "    keyLength = len(key)\n",
    "    return [(i, i+keyLength) for i in range(len(document)) if document.startswith(key, i)]\n",
    " \n",
    "\n",
    "def getLastWordWithoutEqualSign(leftContext):\n",
    "    words = leftContext.strip().split(\" \")\n",
    "    totalWords = len(words)\n",
    "    if len(words)<2:\n",
    "        return \"\"\n",
    "    else:\n",
    "        if words[totalWords-1]==\"=\":\n",
    "            return words[totalWords-2]\n",
    "        else:\n",
    "            return \"\"\n",
    "\n",
    "\n",
    "def getSpecialWords(document, seedsSet):\n",
    "    totalLength = len(document)\n",
    "    specialWords = []\n",
    "    for s in seedsSet:\n",
    "        allSeedPositions = getAllStartEndPairs(document, s)\n",
    "        for (start, end) in allSeedPositions:\n",
    "            prevLoc = start-1\n",
    "            nextLoc = end\n",
    "            if prevLoc>=0 and nextLoc<totalLength:\n",
    "                prevQuot = document[prevLoc]\n",
    "                nextQuot  = document[nextLoc]\n",
    "                print(prevQuot + \" \" + nextQuot)\n",
    "                if prevQuot==\"\\\"\" and nextQuot==\"\\\"\":\n",
    "                    leftContext = document[max(0, prevLoc-100):prevLoc]\n",
    "                    lastWord = getLastWordWithoutEqualSign(leftContext)\n",
    "                    if len(lastWord)>0:\n",
    "                        specialWords.append(lastWord)\n",
    "    return specialWords\n",
    "\n",
    "def getWordsStr(words):\n",
    "    out = words[0]\n",
    "    if len(words)==1:\n",
    "        return out\n",
    "    else:\n",
    "        for index in range(1, len(words)):\n",
    "            out+=\"|\"+words[index]\n",
    "    print(out)\n",
    "    return out\n",
    "\n",
    "\n",
    "def createRegExp(words):\n",
    "    wordsStr = getWordsStr(words)\n",
    "#     print(\"wordsstr is \" + wordsStr)\n",
    "    return (\"(\" + wordsStr +\")[\\s]*=[\\s]*\\\"([^\\\"]*)\\\"\", \"\\\\1=\\\\2\")"
   ]
  }
 ],
 "metadata": {
  "kernelspec": {
   "display_name": "Python 2",
   "language": "python",
   "name": "python2"
  },
  "language_info": {
   "codemirror_mode": {
    "name": "ipython",
    "version": 2
   },
   "file_extension": ".py",
   "mimetype": "text/x-python",
   "name": "python",
   "nbconvert_exporter": "python",
   "pygments_lexer": "ipython2",
   "version": "2.7.12"
  }
 },
 "nbformat": 4,
 "nbformat_minor": 2
}
